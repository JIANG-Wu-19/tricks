{
 "cells": [
  {
   "cell_type": "markdown",
   "metadata": {},
   "source": [
    "# 新生数据分析\n",
    "## 引入相关库"
   ]
  },
  {
   "cell_type": "code",
   "execution_count": 16,
   "metadata": {
    "ExecuteTime": {
     "end_time": "2023-08-17T05:23:51.517144600Z",
     "start_time": "2023-08-17T05:23:51.484715400Z"
    }
   },
   "outputs": [],
   "source": [
    "import pandas as pd\n",
    "import wordcloud\n",
    "import matplotlib.pyplot as plt\n",
    "import matplotlib\n",
    "\n",
    "from PIL import Image"
   ]
  },
  {
   "cell_type": "markdown",
   "metadata": {},
   "source": [
    "## 读取数据"
   ]
  },
  {
   "cell_type": "code",
   "execution_count": 17,
   "metadata": {
    "ExecuteTime": {
     "end_time": "2023-08-17T05:23:51.541228600Z",
     "start_time": "2023-08-17T05:23:51.492518Z"
    }
   },
   "outputs": [],
   "source": [
    "data = pd.read_excel('名单.xlsx')"
   ]
  },
  {
   "cell_type": "markdown",
   "metadata": {},
   "source": [
    "## 人数输出"
   ]
  },
  {
   "cell_type": "code",
   "execution_count": 18,
   "metadata": {
    "ExecuteTime": {
     "end_time": "2023-08-17T05:23:51.541228600Z",
     "start_time": "2023-08-17T05:23:51.521156Z"
    }
   },
   "outputs": [
    {
     "name": "stdout",
     "output_type": "stream",
     "text": [
      "新生人数： 30\n"
     ]
    }
   ],
   "source": [
    "print('新生人数：', len(data))"
   ]
  },
  {
   "cell_type": "markdown",
   "metadata": {},
   "source": [
    "## 统计数据"
   ]
  },
  {
   "cell_type": "code",
   "execution_count": 19,
   "metadata": {
    "ExecuteTime": {
     "end_time": "2023-08-17T05:23:51.541228600Z",
     "start_time": "2023-08-17T05:23:51.525187600Z"
    }
   },
   "outputs": [],
   "source": [
    "male = 0\n",
    "female = 0\n",
    "txt = \"\"\n",
    "for i in range(len(data)):\n",
    "    item = data.loc[i]\n",
    "\n",
    "    if item['性别'] == \"男\":\n",
    "        male += 1\n",
    "    else:\n",
    "        female += 1\n",
    "\n",
    "    txt += item['籍贯'] + \" \""
   ]
  },
  {
   "cell_type": "markdown",
   "metadata": {},
   "source": [
    "## 绘制饼图"
   ]
  },
  {
   "cell_type": "code",
   "execution_count": 20,
   "metadata": {
    "ExecuteTime": {
     "end_time": "2023-08-17T05:23:51.627471100Z",
     "start_time": "2023-08-17T05:23:51.533235400Z"
    }
   },
   "outputs": [
    {
     "data": {
      "image/png": "[encoded data removed]",
      "text/plain": [
       "<Figure size 640x480 with 1 Axes>"
      ]
     },
     "metadata": {},
     "output_type": "display_data"
    }
   ],
   "source": [
    "matplotlib.rcParams['font.sans-serif'] = ['SimHei']\n",
    "matplotlib.rcParams[\"axes.unicode_minus\"]=False\n",
    "\n",
    "g=['男','女']\n",
    "c=[\"b\",\"y\"]\n",
    "t=[male,female]\n",
    "\n",
    "plt.pie(t,labels=g,colors=c,autopct='%1.1f%%')\n",
    "\n",
    "plt.title(\"新生男女比例\")\n",
    "# 输出图片\n",
    "plt.savefig(\"新生男女比例.png\")"
   ]
  },
  {
   "cell_type": "markdown",
   "metadata": {},
   "source": [
    "## 绘制词云"
   ]
  },
  {
   "cell_type": "code",
   "execution_count": 21,
   "metadata": {
    "ExecuteTime": {
     "end_time": "2023-08-17T05:23:57.521274300Z",
     "start_time": "2023-08-17T05:23:51.629976300Z"
    }
   },
   "outputs": [],
   "source": [
    "w=wordcloud.WordCloud(width=1000,height=700,background_color='white',font_path='C:\\\\Windows\\\\Fonts\\\\simfang.ttf')\n",
    "w.generate(txt)\n",
    "w.to_file('新生籍贯词云.png')\n",
    "image=Image.open('新生籍贯词云.png')\n",
    "image.show()"
   ]
  }
 ],
 "metadata": {
  "kernelspec": {
   "display_name": "Python 3 (ipykernel)",
   "language": "python",
   "name": "python3"
  },
  "language_info": {
   "codemirror_mode": {
    "name": "ipython",
    "version": 3
   },
   "file_extension": ".py",
   "mimetype": "text/x-python",
   "name": "python",
   "nbconvert_exporter": "python",
   "pygments_lexer": "ipython3",
   "version": "3.11.4"
  }
 },
 "nbformat": 4,
 "nbformat_minor": 1
}
