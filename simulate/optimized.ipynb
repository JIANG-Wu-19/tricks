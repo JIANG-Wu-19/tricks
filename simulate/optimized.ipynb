{
 "cells": [
  {
   "cell_type": "code",
   "execution_count": 2,
   "id": "7606a640",
   "metadata": {},
   "outputs": [
    {
     "data": {
      "text/plain": [
       "True"
      ]
     },
     "execution_count": 2,
     "metadata": {},
     "output_type": "execute_result"
    }
   ],
   "source": [
    "import cv2\n",
    "import numpy as np\n",
    "\n",
    "def optimize_canny(image, sigma=0.33):\n",
    "    # 1. 调整图像的亮度和对比度\n",
    "    image = cv2.convertScaleAbs(image, alpha=1.5, beta=10)\n",
    "\n",
    "    # 2. 使用高斯滤波进行图像平滑处理，降噪\n",
    "    blurred = cv2.GaussianBlur(image, (5, 5), 0)\n",
    "\n",
    "    # 3. 根据Sigma计算Canny的minVal和maxVal thresholds\n",
    "    median = np.median(blurred)\n",
    "    lower = int(max(0, (1.0 - sigma) * median))\n",
    "    upper = int(min(255, (1.0 + sigma) * median))\n",
    "\n",
    "    # 4. 应用Canny边缘检测算法\n",
    "    edges = cv2.Canny(blurred, lower, upper)\n",
    "\n",
    "    # 5. 进一步优化边缘图像，提高连续性\n",
    "    kernel = cv2.getStructuringElement(cv2.MORPH_RECT, (3, 3))\n",
    "    dilated = cv2.dilate(edges, kernel, iterations=1)\n",
    "    eroded = cv2.erode(dilated, kernel, iterations=1)\n",
    "\n",
    "    # 6. 返回最终优化后的边缘图像\n",
    "    return eroded\n",
    "\n",
    "# 加载输入图像\n",
    "image = cv2.imread(\"1.png\", 0)\n",
    "\n",
    "# 优化Canny算法应用于裂缝分析\n",
    "edges = optimize_canny(image)\n",
    "\n",
    "# 查找并绘制裂缝线条\n",
    "lines = cv2.HoughLinesP(edges, 1, np.pi / 180, 50, minLineLength=50, maxLineGap=5)\n",
    "if lines is not None:\n",
    "    for line in lines:\n",
    "        x1, y1, x2, y2 = line[0]\n",
    "        cv2.line(image, (x1, y1), (x2, y2), (0, 0, 255), 2)\n",
    "\n",
    "# 保存检测结果\n",
    "# cv2.imshow(\"Optimized Canny Edges\", image)\n",
    "cv2.imwrite('result.png', image)\n",
    "\n",
    "# 展示结果\n",
    "# cv2.imshow(\"Optimized Canny Edges\", edges)\n",
    "# cv2.waitKey(0)\n",
    "# cv2.destroyAllWindows()\n"
   ]
  },
  {
   "cell_type": "code",
   "execution_count": null,
   "id": "d118d3b4",
   "metadata": {},
   "outputs": [],
   "source": []
  }
 ],
 "metadata": {
  "kernelspec": {
   "display_name": "Python 3 (ipykernel)",
   "language": "python",
   "name": "python3"
  },
  "language_info": {
   "codemirror_mode": {
    "name": "ipython",
    "version": 3
   },
   "file_extension": ".py",
   "mimetype": "text/x-python",
   "name": "python",
   "nbconvert_exporter": "python",
   "pygments_lexer": "ipython3",
   "version": "3.11.4"
  }
 },
 "nbformat": 4,
 "nbformat_minor": 5
}
